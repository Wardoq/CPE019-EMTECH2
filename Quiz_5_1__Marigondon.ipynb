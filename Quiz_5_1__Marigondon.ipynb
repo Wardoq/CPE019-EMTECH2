{
  "nbformat": 4,
  "nbformat_minor": 0,
  "metadata": {
    "colab": {
      "provenance": []
    },
    "kernelspec": {
      "name": "python3",
      "display_name": "Python 3"
    },
    "language_info": {
      "name": "python"
    }
  },
  "cells": [
    {
      "cell_type": "markdown",
      "source": [
        "Name: Edward Joseph M. Marigondon\n",
        "Submitted to: Dr. Rich Monreal\n",
        "Date: 19/2/25"
      ],
      "metadata": {
        "id": "orccLihSb897"
      }
    },
    {
      "cell_type": "code",
      "execution_count": 1,
      "metadata": {
        "colab": {
          "base_uri": "https://localhost:8080/"
        },
        "id": "E0SvwKrebvcf",
        "outputId": "308e7350-bdc4-4dc7-b1e8-e97756fc38f6"
      },
      "outputs": [
        {
          "output_type": "stream",
          "name": "stdout",
          "text": [
            "Number of attempts in the examination is greater than 2:\n",
            "      name  score  attempts qualify\n",
            "b     Dima    9.0         3      no\n",
            "d    James    NaN         3      no\n",
            "f  Michael   20.0         3     yes\n"
          ]
        }
      ],
      "source": [
        "import pandas as pd\n",
        "import numpy as np\n",
        "\n",
        "exam_data  = {'name': ['Anastasia', 'Dima', 'Katherine', 'James', 'Emily', 'Michael', 'Matthew', 'Laura', 'Kevin', 'Jonas'],\n",
        "        'score': [12.5, 9, 16.5, np.nan, 9, 20, 14.5, np.nan, 8, 19],\n",
        "        'attempts' : [1, 3, 2, 3, 2, 3, 1, 1, 2, 1],\n",
        "        'qualify': ['yes', 'no', 'yes', 'no', 'no', 'yes', 'yes', 'no', 'no', 'yes']}\n",
        "labels = ['a', 'b', 'c', 'd', 'e', 'f', 'g', 'h', 'i', 'j']\n",
        "\n",
        "df = pd.DataFrame(exam_data , index=labels)\n",
        "print(\"Number of attempts in the examination is greater than 2:\")\n",
        "print(df[df['attempts'] > 2])\n"
      ]
    },
    {
      "cell_type": "markdown",
      "source": [
        "Conclusion: I learned that code creates a DataFrame using pandas from a dictionary containing data about students' exam scores, the number of attempts they made, and whether they qualify. The DataFrame is given custom row labels a to j. The Python code provided creates a DataFrame to represent an examination dataset and performs a query to filter students who have made more than two attempts. This kind of data manipulation is a key element of data analysis, and the code snippet serves as a basic demonstration of how you can use the Pandas library to filter and analyze data."
      ],
      "metadata": {
        "id": "6iekYfAEdGOC"
      }
    }
  ]
}